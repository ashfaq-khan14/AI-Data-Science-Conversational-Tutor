{
  "cells": [
    {
      "cell_type": "markdown",
      "metadata": {
        "id": "view-in-github",
        "colab_type": "text"
      },
      "source": [
        "<a href=\"https://colab.research.google.com/github/ashfaq-khan14/AI-Data-Science-Conversational-Tutor/blob/main/rag.ipynb\" target=\"_parent\"><img src=\"https://colab.research.google.com/assets/colab-badge.svg\" alt=\"Open In Colab\"/></a>"
      ]
    },
    {
      "cell_type": "code",
      "execution_count": 1,
      "metadata": {
        "colab": {
          "base_uri": "https://localhost:8080/"
        },
        "id": "OJyLFZgONwbX",
        "outputId": "3f3d18bc-ea70-445f-8852-70fba732603f"
      },
      "outputs": [
        {
          "output_type": "stream",
          "name": "stdout",
          "text": [
            "Requirement already satisfied: pypdf in /usr/local/lib/python3.10/dist-packages (4.2.0)\n",
            "Requirement already satisfied: typing_extensions>=4.0 in /usr/local/lib/python3.10/dist-packages (from pypdf) (4.11.0)\n",
            "Requirement already satisfied: langchain in /usr/local/lib/python3.10/dist-packages (0.1.16)\n",
            "Requirement already satisfied: PyYAML>=5.3 in /usr/local/lib/python3.10/dist-packages (from langchain) (6.0.1)\n",
            "Requirement already satisfied: SQLAlchemy<3,>=1.4 in /usr/local/lib/python3.10/dist-packages (from langchain) (2.0.29)\n",
            "Requirement already satisfied: aiohttp<4.0.0,>=3.8.3 in /usr/local/lib/python3.10/dist-packages (from langchain) (3.9.5)\n",
            "Requirement already satisfied: async-timeout<5.0.0,>=4.0.0 in /usr/local/lib/python3.10/dist-packages (from langchain) (4.0.3)\n",
            "Requirement already satisfied: dataclasses-json<0.7,>=0.5.7 in /usr/local/lib/python3.10/dist-packages (from langchain) (0.6.4)\n",
            "Requirement already satisfied: jsonpatch<2.0,>=1.33 in /usr/local/lib/python3.10/dist-packages (from langchain) (1.33)\n",
            "Requirement already satisfied: langchain-community<0.1,>=0.0.32 in /usr/local/lib/python3.10/dist-packages (from langchain) (0.0.34)\n",
            "Requirement already satisfied: langchain-core<0.2.0,>=0.1.42 in /usr/local/lib/python3.10/dist-packages (from langchain) (0.1.45)\n",
            "Requirement already satisfied: langchain-text-splitters<0.1,>=0.0.1 in /usr/local/lib/python3.10/dist-packages (from langchain) (0.0.1)\n",
            "Requirement already satisfied: langsmith<0.2.0,>=0.1.17 in /usr/local/lib/python3.10/dist-packages (from langchain) (0.1.50)\n",
            "Requirement already satisfied: numpy<2,>=1 in /usr/local/lib/python3.10/dist-packages (from langchain) (1.25.2)\n",
            "Requirement already satisfied: pydantic<3,>=1 in /usr/local/lib/python3.10/dist-packages (from langchain) (2.7.0)\n",
            "Requirement already satisfied: requests<3,>=2 in /usr/local/lib/python3.10/dist-packages (from langchain) (2.31.0)\n",
            "Requirement already satisfied: tenacity<9.0.0,>=8.1.0 in /usr/local/lib/python3.10/dist-packages (from langchain) (8.2.3)\n",
            "Requirement already satisfied: aiosignal>=1.1.2 in /usr/local/lib/python3.10/dist-packages (from aiohttp<4.0.0,>=3.8.3->langchain) (1.3.1)\n",
            "Requirement already satisfied: attrs>=17.3.0 in /usr/local/lib/python3.10/dist-packages (from aiohttp<4.0.0,>=3.8.3->langchain) (23.2.0)\n",
            "Requirement already satisfied: frozenlist>=1.1.1 in /usr/local/lib/python3.10/dist-packages (from aiohttp<4.0.0,>=3.8.3->langchain) (1.4.1)\n",
            "Requirement already satisfied: multidict<7.0,>=4.5 in /usr/local/lib/python3.10/dist-packages (from aiohttp<4.0.0,>=3.8.3->langchain) (6.0.5)\n",
            "Requirement already satisfied: yarl<2.0,>=1.0 in /usr/local/lib/python3.10/dist-packages (from aiohttp<4.0.0,>=3.8.3->langchain) (1.9.4)\n",
            "Requirement already satisfied: marshmallow<4.0.0,>=3.18.0 in /usr/local/lib/python3.10/dist-packages (from dataclasses-json<0.7,>=0.5.7->langchain) (3.21.1)\n",
            "Requirement already satisfied: typing-inspect<1,>=0.4.0 in /usr/local/lib/python3.10/dist-packages (from dataclasses-json<0.7,>=0.5.7->langchain) (0.9.0)\n",
            "Requirement already satisfied: jsonpointer>=1.9 in /usr/local/lib/python3.10/dist-packages (from jsonpatch<2.0,>=1.33->langchain) (2.4)\n",
            "Requirement already satisfied: packaging<24.0,>=23.2 in /usr/local/lib/python3.10/dist-packages (from langchain-core<0.2.0,>=0.1.42->langchain) (23.2)\n",
            "Requirement already satisfied: orjson<4.0.0,>=3.9.14 in /usr/local/lib/python3.10/dist-packages (from langsmith<0.2.0,>=0.1.17->langchain) (3.10.1)\n",
            "Requirement already satisfied: annotated-types>=0.4.0 in /usr/local/lib/python3.10/dist-packages (from pydantic<3,>=1->langchain) (0.6.0)\n",
            "Requirement already satisfied: pydantic-core==2.18.1 in /usr/local/lib/python3.10/dist-packages (from pydantic<3,>=1->langchain) (2.18.1)\n",
            "Requirement already satisfied: typing-extensions>=4.6.1 in /usr/local/lib/python3.10/dist-packages (from pydantic<3,>=1->langchain) (4.11.0)\n",
            "Requirement already satisfied: charset-normalizer<4,>=2 in /usr/local/lib/python3.10/dist-packages (from requests<3,>=2->langchain) (3.3.2)\n",
            "Requirement already satisfied: idna<4,>=2.5 in /usr/local/lib/python3.10/dist-packages (from requests<3,>=2->langchain) (3.7)\n",
            "Requirement already satisfied: urllib3<3,>=1.21.1 in /usr/local/lib/python3.10/dist-packages (from requests<3,>=2->langchain) (2.0.7)\n",
            "Requirement already satisfied: certifi>=2017.4.17 in /usr/local/lib/python3.10/dist-packages (from requests<3,>=2->langchain) (2024.2.2)\n",
            "Requirement already satisfied: greenlet!=0.4.17 in /usr/local/lib/python3.10/dist-packages (from SQLAlchemy<3,>=1.4->langchain) (3.0.3)\n",
            "Requirement already satisfied: mypy-extensions>=0.3.0 in /usr/local/lib/python3.10/dist-packages (from typing-inspect<1,>=0.4.0->dataclasses-json<0.7,>=0.5.7->langchain) (1.0.0)\n",
            "Requirement already satisfied: google-generativeai in /usr/local/lib/python3.10/dist-packages (0.5.2)\n",
            "Requirement already satisfied: google-ai-generativelanguage==0.6.2 in /usr/local/lib/python3.10/dist-packages (from google-generativeai) (0.6.2)\n",
            "Requirement already satisfied: google-api-core in /usr/local/lib/python3.10/dist-packages (from google-generativeai) (2.11.1)\n",
            "Requirement already satisfied: google-api-python-client in /usr/local/lib/python3.10/dist-packages (from google-generativeai) (2.84.0)\n",
            "Requirement already satisfied: google-auth>=2.15.0 in /usr/local/lib/python3.10/dist-packages (from google-generativeai) (2.27.0)\n",
            "Requirement already satisfied: protobuf in /usr/local/lib/python3.10/dist-packages (from google-generativeai) (3.20.3)\n",
            "Requirement already satisfied: pydantic in /usr/local/lib/python3.10/dist-packages (from google-generativeai) (2.7.0)\n",
            "Requirement already satisfied: tqdm in /usr/local/lib/python3.10/dist-packages (from google-generativeai) (4.66.2)\n",
            "Requirement already satisfied: typing-extensions in /usr/local/lib/python3.10/dist-packages (from google-generativeai) (4.11.0)\n",
            "Requirement already satisfied: proto-plus<2.0.0dev,>=1.22.3 in /usr/local/lib/python3.10/dist-packages (from google-ai-generativelanguage==0.6.2->google-generativeai) (1.23.0)\n",
            "Requirement already satisfied: cachetools<6.0,>=2.0.0 in /usr/local/lib/python3.10/dist-packages (from google-auth>=2.15.0->google-generativeai) (5.3.3)\n",
            "Requirement already satisfied: pyasn1-modules>=0.2.1 in /usr/local/lib/python3.10/dist-packages (from google-auth>=2.15.0->google-generativeai) (0.4.0)\n",
            "Requirement already satisfied: rsa<5,>=3.1.4 in /usr/local/lib/python3.10/dist-packages (from google-auth>=2.15.0->google-generativeai) (4.9)\n",
            "Requirement already satisfied: googleapis-common-protos<2.0.dev0,>=1.56.2 in /usr/local/lib/python3.10/dist-packages (from google-api-core->google-generativeai) (1.63.0)\n",
            "Requirement already satisfied: requests<3.0.0.dev0,>=2.18.0 in /usr/local/lib/python3.10/dist-packages (from google-api-core->google-generativeai) (2.31.0)\n",
            "Requirement already satisfied: httplib2<1dev,>=0.15.0 in /usr/local/lib/python3.10/dist-packages (from google-api-python-client->google-generativeai) (0.22.0)\n",
            "Requirement already satisfied: google-auth-httplib2>=0.1.0 in /usr/local/lib/python3.10/dist-packages (from google-api-python-client->google-generativeai) (0.1.1)\n",
            "Requirement already satisfied: uritemplate<5,>=3.0.1 in /usr/local/lib/python3.10/dist-packages (from google-api-python-client->google-generativeai) (4.1.1)\n",
            "Requirement already satisfied: annotated-types>=0.4.0 in /usr/local/lib/python3.10/dist-packages (from pydantic->google-generativeai) (0.6.0)\n",
            "Requirement already satisfied: pydantic-core==2.18.1 in /usr/local/lib/python3.10/dist-packages (from pydantic->google-generativeai) (2.18.1)\n",
            "Requirement already satisfied: grpcio<2.0dev,>=1.33.2 in /usr/local/lib/python3.10/dist-packages (from google-api-core->google-generativeai) (1.62.2)\n",
            "Requirement already satisfied: grpcio-status<2.0.dev0,>=1.33.2 in /usr/local/lib/python3.10/dist-packages (from google-api-core->google-generativeai) (1.48.2)\n",
            "Requirement already satisfied: pyparsing!=3.0.0,!=3.0.1,!=3.0.2,!=3.0.3,<4,>=2.4.2 in /usr/local/lib/python3.10/dist-packages (from httplib2<1dev,>=0.15.0->google-api-python-client->google-generativeai) (3.1.2)\n",
            "Requirement already satisfied: pyasn1<0.7.0,>=0.4.6 in /usr/local/lib/python3.10/dist-packages (from pyasn1-modules>=0.2.1->google-auth>=2.15.0->google-generativeai) (0.6.0)\n",
            "Requirement already satisfied: charset-normalizer<4,>=2 in /usr/local/lib/python3.10/dist-packages (from requests<3.0.0.dev0,>=2.18.0->google-api-core->google-generativeai) (3.3.2)\n",
            "Requirement already satisfied: idna<4,>=2.5 in /usr/local/lib/python3.10/dist-packages (from requests<3.0.0.dev0,>=2.18.0->google-api-core->google-generativeai) (3.7)\n",
            "Requirement already satisfied: urllib3<3,>=1.21.1 in /usr/local/lib/python3.10/dist-packages (from requests<3.0.0.dev0,>=2.18.0->google-api-core->google-generativeai) (2.0.7)\n",
            "Requirement already satisfied: certifi>=2017.4.17 in /usr/local/lib/python3.10/dist-packages (from requests<3.0.0.dev0,>=2.18.0->google-api-core->google-generativeai) (2024.2.2)\n",
            "Requirement already satisfied: langchain_google_genai in /usr/local/lib/python3.10/dist-packages (1.0.2)\n",
            "Requirement already satisfied: google-generativeai<0.6.0,>=0.5.0 in /usr/local/lib/python3.10/dist-packages (from langchain_google_genai) (0.5.2)\n",
            "Requirement already satisfied: langchain-core<0.2,>=0.1.27 in /usr/local/lib/python3.10/dist-packages (from langchain_google_genai) (0.1.45)\n",
            "Requirement already satisfied: google-ai-generativelanguage==0.6.2 in /usr/local/lib/python3.10/dist-packages (from google-generativeai<0.6.0,>=0.5.0->langchain_google_genai) (0.6.2)\n",
            "Requirement already satisfied: google-api-core in /usr/local/lib/python3.10/dist-packages (from google-generativeai<0.6.0,>=0.5.0->langchain_google_genai) (2.11.1)\n",
            "Requirement already satisfied: google-api-python-client in /usr/local/lib/python3.10/dist-packages (from google-generativeai<0.6.0,>=0.5.0->langchain_google_genai) (2.84.0)\n",
            "Requirement already satisfied: google-auth>=2.15.0 in /usr/local/lib/python3.10/dist-packages (from google-generativeai<0.6.0,>=0.5.0->langchain_google_genai) (2.27.0)\n",
            "Requirement already satisfied: protobuf in /usr/local/lib/python3.10/dist-packages (from google-generativeai<0.6.0,>=0.5.0->langchain_google_genai) (3.20.3)\n",
            "Requirement already satisfied: pydantic in /usr/local/lib/python3.10/dist-packages (from google-generativeai<0.6.0,>=0.5.0->langchain_google_genai) (2.7.0)\n",
            "Requirement already satisfied: tqdm in /usr/local/lib/python3.10/dist-packages (from google-generativeai<0.6.0,>=0.5.0->langchain_google_genai) (4.66.2)\n",
            "Requirement already satisfied: typing-extensions in /usr/local/lib/python3.10/dist-packages (from google-generativeai<0.6.0,>=0.5.0->langchain_google_genai) (4.11.0)\n",
            "Requirement already satisfied: proto-plus<2.0.0dev,>=1.22.3 in /usr/local/lib/python3.10/dist-packages (from google-ai-generativelanguage==0.6.2->google-generativeai<0.6.0,>=0.5.0->langchain_google_genai) (1.23.0)\n",
            "Requirement already satisfied: PyYAML>=5.3 in /usr/local/lib/python3.10/dist-packages (from langchain-core<0.2,>=0.1.27->langchain_google_genai) (6.0.1)\n",
            "Requirement already satisfied: jsonpatch<2.0,>=1.33 in /usr/local/lib/python3.10/dist-packages (from langchain-core<0.2,>=0.1.27->langchain_google_genai) (1.33)\n",
            "Requirement already satisfied: langsmith<0.2.0,>=0.1.0 in /usr/local/lib/python3.10/dist-packages (from langchain-core<0.2,>=0.1.27->langchain_google_genai) (0.1.50)\n",
            "Requirement already satisfied: packaging<24.0,>=23.2 in /usr/local/lib/python3.10/dist-packages (from langchain-core<0.2,>=0.1.27->langchain_google_genai) (23.2)\n",
            "Requirement already satisfied: tenacity<9.0.0,>=8.1.0 in /usr/local/lib/python3.10/dist-packages (from langchain-core<0.2,>=0.1.27->langchain_google_genai) (8.2.3)\n",
            "Requirement already satisfied: cachetools<6.0,>=2.0.0 in /usr/local/lib/python3.10/dist-packages (from google-auth>=2.15.0->google-generativeai<0.6.0,>=0.5.0->langchain_google_genai) (5.3.3)\n",
            "Requirement already satisfied: pyasn1-modules>=0.2.1 in /usr/local/lib/python3.10/dist-packages (from google-auth>=2.15.0->google-generativeai<0.6.0,>=0.5.0->langchain_google_genai) (0.4.0)\n",
            "Requirement already satisfied: rsa<5,>=3.1.4 in /usr/local/lib/python3.10/dist-packages (from google-auth>=2.15.0->google-generativeai<0.6.0,>=0.5.0->langchain_google_genai) (4.9)\n",
            "Requirement already satisfied: jsonpointer>=1.9 in /usr/local/lib/python3.10/dist-packages (from jsonpatch<2.0,>=1.33->langchain-core<0.2,>=0.1.27->langchain_google_genai) (2.4)\n",
            "Requirement already satisfied: orjson<4.0.0,>=3.9.14 in /usr/local/lib/python3.10/dist-packages (from langsmith<0.2.0,>=0.1.0->langchain-core<0.2,>=0.1.27->langchain_google_genai) (3.10.1)\n",
            "Requirement already satisfied: requests<3,>=2 in /usr/local/lib/python3.10/dist-packages (from langsmith<0.2.0,>=0.1.0->langchain-core<0.2,>=0.1.27->langchain_google_genai) (2.31.0)\n",
            "Requirement already satisfied: annotated-types>=0.4.0 in /usr/local/lib/python3.10/dist-packages (from pydantic->google-generativeai<0.6.0,>=0.5.0->langchain_google_genai) (0.6.0)\n",
            "Requirement already satisfied: pydantic-core==2.18.1 in /usr/local/lib/python3.10/dist-packages (from pydantic->google-generativeai<0.6.0,>=0.5.0->langchain_google_genai) (2.18.1)\n",
            "Requirement already satisfied: googleapis-common-protos<2.0.dev0,>=1.56.2 in /usr/local/lib/python3.10/dist-packages (from google-api-core->google-generativeai<0.6.0,>=0.5.0->langchain_google_genai) (1.63.0)\n",
            "Requirement already satisfied: httplib2<1dev,>=0.15.0 in /usr/local/lib/python3.10/dist-packages (from google-api-python-client->google-generativeai<0.6.0,>=0.5.0->langchain_google_genai) (0.22.0)\n",
            "Requirement already satisfied: google-auth-httplib2>=0.1.0 in /usr/local/lib/python3.10/dist-packages (from google-api-python-client->google-generativeai<0.6.0,>=0.5.0->langchain_google_genai) (0.1.1)\n",
            "Requirement already satisfied: uritemplate<5,>=3.0.1 in /usr/local/lib/python3.10/dist-packages (from google-api-python-client->google-generativeai<0.6.0,>=0.5.0->langchain_google_genai) (4.1.1)\n",
            "Requirement already satisfied: grpcio<2.0dev,>=1.33.2 in /usr/local/lib/python3.10/dist-packages (from google-api-core->google-generativeai<0.6.0,>=0.5.0->langchain_google_genai) (1.62.2)\n",
            "Requirement already satisfied: grpcio-status<2.0.dev0,>=1.33.2 in /usr/local/lib/python3.10/dist-packages (from google-api-core->google-generativeai<0.6.0,>=0.5.0->langchain_google_genai) (1.48.2)\n",
            "Requirement already satisfied: pyparsing!=3.0.0,!=3.0.1,!=3.0.2,!=3.0.3,<4,>=2.4.2 in /usr/local/lib/python3.10/dist-packages (from httplib2<1dev,>=0.15.0->google-api-python-client->google-generativeai<0.6.0,>=0.5.0->langchain_google_genai) (3.1.2)\n",
            "Requirement already satisfied: pyasn1<0.7.0,>=0.4.6 in /usr/local/lib/python3.10/dist-packages (from pyasn1-modules>=0.2.1->google-auth>=2.15.0->google-generativeai<0.6.0,>=0.5.0->langchain_google_genai) (0.6.0)\n",
            "Requirement already satisfied: charset-normalizer<4,>=2 in /usr/local/lib/python3.10/dist-packages (from requests<3,>=2->langsmith<0.2.0,>=0.1.0->langchain-core<0.2,>=0.1.27->langchain_google_genai) (3.3.2)\n",
            "Requirement already satisfied: idna<4,>=2.5 in /usr/local/lib/python3.10/dist-packages (from requests<3,>=2->langsmith<0.2.0,>=0.1.0->langchain-core<0.2,>=0.1.27->langchain_google_genai) (3.7)\n",
            "Requirement already satisfied: urllib3<3,>=1.21.1 in /usr/local/lib/python3.10/dist-packages (from requests<3,>=2->langsmith<0.2.0,>=0.1.0->langchain-core<0.2,>=0.1.27->langchain_google_genai) (2.0.7)\n",
            "Requirement already satisfied: certifi>=2017.4.17 in /usr/local/lib/python3.10/dist-packages (from requests<3,>=2->langsmith<0.2.0,>=0.1.0->langchain-core<0.2,>=0.1.27->langchain_google_genai) (2024.2.2)\n",
            "Requirement already satisfied: chromadb in /usr/local/lib/python3.10/dist-packages (0.5.0)\n",
            "Requirement already satisfied: build>=1.0.3 in /usr/local/lib/python3.10/dist-packages (from chromadb) (1.2.1)\n",
            "Requirement already satisfied: requests>=2.28 in /usr/local/lib/python3.10/dist-packages (from chromadb) (2.31.0)\n",
            "Requirement already satisfied: pydantic>=1.9 in /usr/local/lib/python3.10/dist-packages (from chromadb) (2.7.0)\n",
            "Requirement already satisfied: chroma-hnswlib==0.7.3 in /usr/local/lib/python3.10/dist-packages (from chromadb) (0.7.3)\n",
            "Requirement already satisfied: fastapi>=0.95.2 in /usr/local/lib/python3.10/dist-packages (from chromadb) (0.110.2)\n",
            "Requirement already satisfied: uvicorn[standard]>=0.18.3 in /usr/local/lib/python3.10/dist-packages (from chromadb) (0.29.0)\n",
            "Requirement already satisfied: numpy>=1.22.5 in /usr/local/lib/python3.10/dist-packages (from chromadb) (1.25.2)\n",
            "Requirement already satisfied: posthog>=2.4.0 in /usr/local/lib/python3.10/dist-packages (from chromadb) (3.5.0)\n",
            "Requirement already satisfied: typing-extensions>=4.5.0 in /usr/local/lib/python3.10/dist-packages (from chromadb) (4.11.0)\n",
            "Requirement already satisfied: onnxruntime>=1.14.1 in /usr/local/lib/python3.10/dist-packages (from chromadb) (1.17.3)\n",
            "Requirement already satisfied: opentelemetry-api>=1.2.0 in /usr/local/lib/python3.10/dist-packages (from chromadb) (1.24.0)\n",
            "Requirement already satisfied: opentelemetry-exporter-otlp-proto-grpc>=1.2.0 in /usr/local/lib/python3.10/dist-packages (from chromadb) (1.24.0)\n",
            "Requirement already satisfied: opentelemetry-instrumentation-fastapi>=0.41b0 in /usr/local/lib/python3.10/dist-packages (from chromadb) (0.45b0)\n",
            "Requirement already satisfied: opentelemetry-sdk>=1.2.0 in /usr/local/lib/python3.10/dist-packages (from chromadb) (1.24.0)\n",
            "Requirement already satisfied: tokenizers>=0.13.2 in /usr/local/lib/python3.10/dist-packages (from chromadb) (0.19.1)\n",
            "Requirement already satisfied: pypika>=0.48.9 in /usr/local/lib/python3.10/dist-packages (from chromadb) (0.48.9)\n",
            "Requirement already satisfied: tqdm>=4.65.0 in /usr/local/lib/python3.10/dist-packages (from chromadb) (4.66.2)\n",
            "Requirement already satisfied: overrides>=7.3.1 in /usr/local/lib/python3.10/dist-packages (from chromadb) (7.7.0)\n",
            "Requirement already satisfied: importlib-resources in /usr/local/lib/python3.10/dist-packages (from chromadb) (6.4.0)\n",
            "Requirement already satisfied: grpcio>=1.58.0 in /usr/local/lib/python3.10/dist-packages (from chromadb) (1.62.2)\n",
            "Requirement already satisfied: bcrypt>=4.0.1 in /usr/local/lib/python3.10/dist-packages (from chromadb) (4.1.2)\n",
            "Requirement already satisfied: typer>=0.9.0 in /usr/local/lib/python3.10/dist-packages (from chromadb) (0.9.4)\n",
            "Requirement already satisfied: kubernetes>=28.1.0 in /usr/local/lib/python3.10/dist-packages (from chromadb) (29.0.0)\n",
            "Requirement already satisfied: tenacity>=8.2.3 in /usr/local/lib/python3.10/dist-packages (from chromadb) (8.2.3)\n",
            "Requirement already satisfied: PyYAML>=6.0.0 in /usr/local/lib/python3.10/dist-packages (from chromadb) (6.0.1)\n",
            "Requirement already satisfied: mmh3>=4.0.1 in /usr/local/lib/python3.10/dist-packages (from chromadb) (4.1.0)\n",
            "Requirement already satisfied: orjson>=3.9.12 in /usr/local/lib/python3.10/dist-packages (from chromadb) (3.10.1)\n",
            "Requirement already satisfied: packaging>=19.1 in /usr/local/lib/python3.10/dist-packages (from build>=1.0.3->chromadb) (23.2)\n",
            "Requirement already satisfied: pyproject_hooks in /usr/local/lib/python3.10/dist-packages (from build>=1.0.3->chromadb) (1.0.0)\n",
            "Requirement already satisfied: tomli>=1.1.0 in /usr/local/lib/python3.10/dist-packages (from build>=1.0.3->chromadb) (2.0.1)\n",
            "Requirement already satisfied: starlette<0.38.0,>=0.37.2 in /usr/local/lib/python3.10/dist-packages (from fastapi>=0.95.2->chromadb) (0.37.2)\n",
            "Requirement already satisfied: certifi>=14.05.14 in /usr/local/lib/python3.10/dist-packages (from kubernetes>=28.1.0->chromadb) (2024.2.2)\n",
            "Requirement already satisfied: six>=1.9.0 in /usr/local/lib/python3.10/dist-packages (from kubernetes>=28.1.0->chromadb) (1.16.0)\n",
            "Requirement already satisfied: python-dateutil>=2.5.3 in /usr/local/lib/python3.10/dist-packages (from kubernetes>=28.1.0->chromadb) (2.8.2)\n",
            "Requirement already satisfied: google-auth>=1.0.1 in /usr/local/lib/python3.10/dist-packages (from kubernetes>=28.1.0->chromadb) (2.27.0)\n",
            "Requirement already satisfied: websocket-client!=0.40.0,!=0.41.*,!=0.42.*,>=0.32.0 in /usr/local/lib/python3.10/dist-packages (from kubernetes>=28.1.0->chromadb) (1.7.0)\n",
            "Requirement already satisfied: requests-oauthlib in /usr/local/lib/python3.10/dist-packages (from kubernetes>=28.1.0->chromadb) (1.3.1)\n",
            "Requirement already satisfied: oauthlib>=3.2.2 in /usr/local/lib/python3.10/dist-packages (from kubernetes>=28.1.0->chromadb) (3.2.2)\n",
            "Requirement already satisfied: urllib3>=1.24.2 in /usr/local/lib/python3.10/dist-packages (from kubernetes>=28.1.0->chromadb) (2.0.7)\n",
            "Requirement already satisfied: coloredlogs in /usr/local/lib/python3.10/dist-packages (from onnxruntime>=1.14.1->chromadb) (15.0.1)\n",
            "Requirement already satisfied: flatbuffers in /usr/local/lib/python3.10/dist-packages (from onnxruntime>=1.14.1->chromadb) (24.3.25)\n",
            "Requirement already satisfied: protobuf in /usr/local/lib/python3.10/dist-packages (from onnxruntime>=1.14.1->chromadb) (3.20.3)\n",
            "Requirement already satisfied: sympy in /usr/local/lib/python3.10/dist-packages (from onnxruntime>=1.14.1->chromadb) (1.12)\n",
            "Requirement already satisfied: deprecated>=1.2.6 in /usr/local/lib/python3.10/dist-packages (from opentelemetry-api>=1.2.0->chromadb) (1.2.14)\n",
            "Requirement already satisfied: importlib-metadata<=7.0,>=6.0 in /usr/local/lib/python3.10/dist-packages (from opentelemetry-api>=1.2.0->chromadb) (7.0.0)\n",
            "Requirement already satisfied: googleapis-common-protos~=1.52 in /usr/local/lib/python3.10/dist-packages (from opentelemetry-exporter-otlp-proto-grpc>=1.2.0->chromadb) (1.63.0)\n",
            "Requirement already satisfied: opentelemetry-exporter-otlp-proto-common==1.24.0 in /usr/local/lib/python3.10/dist-packages (from opentelemetry-exporter-otlp-proto-grpc>=1.2.0->chromadb) (1.24.0)\n",
            "Requirement already satisfied: opentelemetry-proto==1.24.0 in /usr/local/lib/python3.10/dist-packages (from opentelemetry-exporter-otlp-proto-grpc>=1.2.0->chromadb) (1.24.0)\n",
            "Requirement already satisfied: opentelemetry-instrumentation-asgi==0.45b0 in /usr/local/lib/python3.10/dist-packages (from opentelemetry-instrumentation-fastapi>=0.41b0->chromadb) (0.45b0)\n",
            "Requirement already satisfied: opentelemetry-instrumentation==0.45b0 in /usr/local/lib/python3.10/dist-packages (from opentelemetry-instrumentation-fastapi>=0.41b0->chromadb) (0.45b0)\n",
            "Requirement already satisfied: opentelemetry-semantic-conventions==0.45b0 in /usr/local/lib/python3.10/dist-packages (from opentelemetry-instrumentation-fastapi>=0.41b0->chromadb) (0.45b0)\n",
            "Requirement already satisfied: opentelemetry-util-http==0.45b0 in /usr/local/lib/python3.10/dist-packages (from opentelemetry-instrumentation-fastapi>=0.41b0->chromadb) (0.45b0)\n",
            "Requirement already satisfied: setuptools>=16.0 in /usr/local/lib/python3.10/dist-packages (from opentelemetry-instrumentation==0.45b0->opentelemetry-instrumentation-fastapi>=0.41b0->chromadb) (67.7.2)\n",
            "Requirement already satisfied: wrapt<2.0.0,>=1.0.0 in /usr/local/lib/python3.10/dist-packages (from opentelemetry-instrumentation==0.45b0->opentelemetry-instrumentation-fastapi>=0.41b0->chromadb) (1.14.1)\n",
            "Requirement already satisfied: asgiref~=3.0 in /usr/local/lib/python3.10/dist-packages (from opentelemetry-instrumentation-asgi==0.45b0->opentelemetry-instrumentation-fastapi>=0.41b0->chromadb) (3.8.1)\n",
            "Requirement already satisfied: monotonic>=1.5 in /usr/local/lib/python3.10/dist-packages (from posthog>=2.4.0->chromadb) (1.6)\n",
            "Requirement already satisfied: backoff>=1.10.0 in /usr/local/lib/python3.10/dist-packages (from posthog>=2.4.0->chromadb) (2.2.1)\n",
            "Requirement already satisfied: annotated-types>=0.4.0 in /usr/local/lib/python3.10/dist-packages (from pydantic>=1.9->chromadb) (0.6.0)\n",
            "Requirement already satisfied: pydantic-core==2.18.1 in /usr/local/lib/python3.10/dist-packages (from pydantic>=1.9->chromadb) (2.18.1)\n",
            "Requirement already satisfied: charset-normalizer<4,>=2 in /usr/local/lib/python3.10/dist-packages (from requests>=2.28->chromadb) (3.3.2)\n",
            "Requirement already satisfied: idna<4,>=2.5 in /usr/local/lib/python3.10/dist-packages (from requests>=2.28->chromadb) (3.7)\n",
            "Requirement already satisfied: huggingface-hub<1.0,>=0.16.4 in /usr/local/lib/python3.10/dist-packages (from tokenizers>=0.13.2->chromadb) (0.20.3)\n",
            "Requirement already satisfied: click<9.0.0,>=7.1.1 in /usr/local/lib/python3.10/dist-packages (from typer>=0.9.0->chromadb) (8.1.7)\n",
            "Requirement already satisfied: h11>=0.8 in /usr/local/lib/python3.10/dist-packages (from uvicorn[standard]>=0.18.3->chromadb) (0.14.0)\n",
            "Requirement already satisfied: httptools>=0.5.0 in /usr/local/lib/python3.10/dist-packages (from uvicorn[standard]>=0.18.3->chromadb) (0.6.1)\n",
            "Requirement already satisfied: python-dotenv>=0.13 in /usr/local/lib/python3.10/dist-packages (from uvicorn[standard]>=0.18.3->chromadb) (1.0.1)\n",
            "Requirement already satisfied: uvloop!=0.15.0,!=0.15.1,>=0.14.0 in /usr/local/lib/python3.10/dist-packages (from uvicorn[standard]>=0.18.3->chromadb) (0.19.0)\n",
            "Requirement already satisfied: watchfiles>=0.13 in /usr/local/lib/python3.10/dist-packages (from uvicorn[standard]>=0.18.3->chromadb) (0.21.0)\n",
            "Requirement already satisfied: websockets>=10.4 in /usr/local/lib/python3.10/dist-packages (from uvicorn[standard]>=0.18.3->chromadb) (12.0)\n",
            "Requirement already satisfied: cachetools<6.0,>=2.0.0 in /usr/local/lib/python3.10/dist-packages (from google-auth>=1.0.1->kubernetes>=28.1.0->chromadb) (5.3.3)\n",
            "Requirement already satisfied: pyasn1-modules>=0.2.1 in /usr/local/lib/python3.10/dist-packages (from google-auth>=1.0.1->kubernetes>=28.1.0->chromadb) (0.4.0)\n",
            "Requirement already satisfied: rsa<5,>=3.1.4 in /usr/local/lib/python3.10/dist-packages (from google-auth>=1.0.1->kubernetes>=28.1.0->chromadb) (4.9)\n",
            "Requirement already satisfied: filelock in /usr/local/lib/python3.10/dist-packages (from huggingface-hub<1.0,>=0.16.4->tokenizers>=0.13.2->chromadb) (3.13.4)\n",
            "Requirement already satisfied: fsspec>=2023.5.0 in /usr/local/lib/python3.10/dist-packages (from huggingface-hub<1.0,>=0.16.4->tokenizers>=0.13.2->chromadb) (2023.6.0)\n",
            "Requirement already satisfied: zipp>=0.5 in /usr/local/lib/python3.10/dist-packages (from importlib-metadata<=7.0,>=6.0->opentelemetry-api>=1.2.0->chromadb) (3.18.1)\n",
            "Requirement already satisfied: anyio<5,>=3.4.0 in /usr/local/lib/python3.10/dist-packages (from starlette<0.38.0,>=0.37.2->fastapi>=0.95.2->chromadb) (3.7.1)\n",
            "Requirement already satisfied: humanfriendly>=9.1 in /usr/local/lib/python3.10/dist-packages (from coloredlogs->onnxruntime>=1.14.1->chromadb) (10.0)\n",
            "Requirement already satisfied: mpmath>=0.19 in /usr/local/lib/python3.10/dist-packages (from sympy->onnxruntime>=1.14.1->chromadb) (1.3.0)\n",
            "Requirement already satisfied: sniffio>=1.1 in /usr/local/lib/python3.10/dist-packages (from anyio<5,>=3.4.0->starlette<0.38.0,>=0.37.2->fastapi>=0.95.2->chromadb) (1.3.1)\n",
            "Requirement already satisfied: exceptiongroup in /usr/local/lib/python3.10/dist-packages (from anyio<5,>=3.4.0->starlette<0.38.0,>=0.37.2->fastapi>=0.95.2->chromadb) (1.2.1)\n",
            "Requirement already satisfied: pyasn1<0.7.0,>=0.4.6 in /usr/local/lib/python3.10/dist-packages (from pyasn1-modules>=0.2.1->google-auth>=1.0.1->kubernetes>=28.1.0->chromadb) (0.6.0)\n"
          ]
        }
      ],
      "source": [
        "!pip install pypdf\n",
        "!pip install langchain\n",
        "!pip install google-generativeai\n",
        "!pip install langchain_google_genai\n",
        "!pip install chromadb"
      ]
    },
    {
      "cell_type": "code",
      "execution_count": 2,
      "metadata": {
        "colab": {
          "base_uri": "https://localhost:8080/"
        },
        "id": "_zPVwSn0Nwbb",
        "outputId": "f8de0b4e-2fc9-483a-d7a9-43229ee2f8da"
      },
      "outputs": [
        {
          "output_type": "execute_result",
          "data": {
            "text/plain": [
              "[Document(page_content='Preprint. Under review.\\nLeave No Context Behind:\\nEfficient Infinite Context Transformers with Infini-attention\\nTsendsuren Munkhdalai, Manaal Faruqui and Siddharth Gopal\\nGoogle\\ntsendsuren@google.com\\nAbstract\\nThis work introduces an efficient method to scale Transformer-based Large\\nLanguage Models (LLMs) to infinitely long inputs with bounded memory\\nand computation. A key component in our proposed approach is a new at-\\ntention technique dubbed Infini-attention. The Infini-attention incorporates\\na compressive memory into the vanilla attention mechanism and builds\\nin both masked local attention and long-term linear attention mechanisms\\nin a single Transformer block. We demonstrate the effectiveness of our\\napproach on long-context language modeling benchmarks, 1M sequence\\nlength passkey context block retrieval and 500K length book summarization\\ntasks with 1B and 8B LLMs. Our approach introduces minimal bounded\\nmemory parameters and enables fast streaming inference for LLMs.\\n1 Introduction\\nMemory serves as a cornerstone of intelligence, as it enables efficient computations tailored\\nto specific contexts. However, Transformers (Vaswani et al., 2017) and Transformer-based\\nLLMs (Brown et al., 2020; Touvron et al., 2023; Anil et al., 2023; Groeneveld et al., 2024) have\\na constrained context-dependent memory, due to the nature of the attention mechanism.\\nUpdate \\nVVConcat Concat \\nQ V\\nQ V\\nQs{KV}sCompressive memory & \\nLinear attention Causal scaled dot-product \\nattention & PE Linear \\nprojection \\n{KV}s-1Retrieve \\nFigure 1: Infini-attention has an addi-\\ntional compressive memory with linear\\nattention for processing infinitely long\\ncontexts. {KV}s−1and{KV}sare atten-\\ntion key and values for current and previ-\\nous input segments, respectively and Qs\\nthe attention queries. PE denotes position\\nembeddings.The attention mechanism in Transformers ex-\\nhibits quadratic complexity in both memory\\nfootprint and computation time. For example,\\nthe attention Key-Value (KV) states have 3TB\\nmemory footprint for a 500B model with batch\\nsize 512 and context length 2048 (Pope et al.,\\n2023). Indeed, scaling LLMs to longer sequences\\n(i.e. 1M tokens) is challenging with the standard\\nTransformer architectures and serving longer\\nand longer context models becomes costly finan-\\ncially.\\nCompressive memory systems promise to be\\nmore scalable and efficient than the attention\\nmechanism for extremely long sequences (Kan-\\nerva, 1988; Munkhdalai et al., 2019). Instead\\nof using an array that grows with the input se-\\nquence length, a compressive memory primarily\\nmaintains a fixed number of parameters to store\\nand recall information with a bounded storage\\nand computation costs. In the compressive mem-\\nory, new information is added to the memory\\nby changing its parameters with an objective\\nthat this information can be recovered back later\\non. However, the LLMs in their current state\\nhave yet to see an effective, practical compres-\\nsive memory technique that balances simplicity along with quality.\\n1arXiv:2404.07143v1  [cs.CL]  10 Apr 2024', metadata={'source': '/content/Preprint.pdf', 'page': 0}),\n",
              " Document(page_content='Preprint. Under review.\\nIn this work, we introduce a novel approach that enables Transformer LLMs to effectively\\nprocess infinitely long inputs with bounded memory footprint and computation. A key\\ncomponent in our proposed approach is a new attention technique dubbed Infini-attention\\n(Figure 1). The Infini-attention incorporates a compressive memory into the vanilla attention\\nmechanism (Bahdanau et al., 2014; Vaswani et al., 2017) and builds in both masked local\\nattention and long-term linear attention mechanisms in a single Transformer block.\\nSuch a subtle but critical modification to the Transformer attention layer enables a natural\\nextension of existing LLMs to infinitely long contexts via continual pre-training and fine-\\ntuning.\\nOur Infini-attention reuses all the key, value and query states of the standard attention\\ncomputation for long-term memory consolidation and retrieval. We store old KV states of\\nthe attention in the compressive memory, instead of discarding them like in the standard\\nattention mechanism. We then retrieve the values from the memory by using the attention\\nquery states when processing subsequent sequences. To compute the final contextual\\noutput, the Infini-attention aggregates the long-term memory-retrieved values and the local\\nattention contexts.\\nIn our experiments, we show that our approach outperforms baseline models on long-\\ncontext language modeling benchmarks while having 114x comprehension ratio in terms of\\nmemory size. The model achieves even better perplexity when trained with 100K sequence\\nlength. A 1B LLM naturally scales to 1M sequence length and solves the passkey retrieval\\ntask when injected with Infini-attention. Finally, we show that a 8B model with Infini-\\nattention reaches a new SOTA result on a 500K length book summarization task after\\ncontinual pre-training and task fine-tuning.\\nIn summary, our work makes the following contributions:\\n1.We introduce a practical and yet powerful attention mechanism – Infini-attention\\nwith long-term compressive memory and local causal attention for efficiently mod-\\neling both long and short-range contextual dependencies.\\n2.Infini-attention introduces minimal change to the standard scaled dot-product atten-\\ntion and supports plug-and-play continual pre-training and long-context adaptation\\nby design.\\n3.Our approach enables Transformer LLMs to scale to infinitely long context with a\\nbounded memory and compute resource by processing extremely long inputs in a\\nstreaming fashion.\\n2 Method\\nFigure 2 compares our model, Infini-Transformer, and Transformer-XL (Dai et al., 2019).\\nSimilar to Transformer-XL, Infini-Transformer operates on a sequence of segments. We\\ncompute the standard causal dot-product attention context within each segment. So the\\ndot-product attention computation is local in a sense that it covers a total Nnumber of\\ntokens of the current segment with index S(Nis the segment length).\\nThe local attention (Dai et al., 2019), however, discards the attention states of the previous\\nsegment when processing the next one. In Infini-Transformers, instead of leaving out the\\nold KV attention states, we propose to reuse them to maintain the entire context history\\nwith a compressive memory. So each attention layer of Infini-Transformers has both global\\ncompressive and local fine-grained states. We call such an efficient attention mechanism\\nInfini-attention, which is illustrated in Figure 1 and described formally in the following\\nsections.\\n2.1 Infini-attention\\nAs shown Figure 1, our Infini-attention computes both local and global context states and\\ncombine them for its output. Similar to multi-head attention (MHA), it maintains Hnumber\\n2', metadata={'source': '/content/Preprint.pdf', 'page': 1}),\n",
              " Document(page_content='Preprint. Under review.\\nSegment 1 Segment 2 Segment 3 \\nSegment 1 Segment 2 Segment 3 Transformer block: Infini-T ransformer \\nT ransformer-XL Compressive memory: \\nMemory update: \\nMemory retrieval: \\nEffective context: \\nInput segment: Segment 1 \\nFigure 2: Infini-Transformer (top) has an entire context history whereas Transformer-XL\\n(bottom) discards old contexts since it caches the KV states for the last segment only.\\nof parallel compressive memory per attention layer ( His the number of attention heads) in\\naddition to the dot-product attention.\\n2.1.1 Scaled Dot-product Attention\\nThe multi-head scaled dot-product attention (Vaswani et al., 2017), specially its self-attention\\nvariant (Munkhdalai et al., 2016; Cheng et al., 2016), has been the main building block in\\nLLMs. The MHA’s strong capability to model context-dependent dynamic computation and\\nits conveniences of temporal masking have been leveraged extensively in the autoregressive\\ngenerative models.\\nA single head in the vanilla MHA computes its attention context Adot∈I RN×dvaluefrom\\nsequence of input segments X∈I RN×dmodel as follows. First, it computes attention query,\\nkey, and value states:\\nK=XW K,V=XW Vand Q=XW Q. (1)\\nHere, WK∈I Rdmodel×dkey,WV∈I Rdmodel×dvalueand WQ∈I Rdmodel×dkeyare trainable projection\\nmatrices. Then, the attention context is calculated as a weighted average of all other values\\nas\\nAdot=softmax\\x12QKT\\n√dmodel\\x13\\nV. (2)\\nFor MHA, we compute Hnumber of attention context vectors for each sequence element\\nin parallel, concatenate them along the second dimension and then finally project the\\nconcatenated vector to the model space to obtain attention the output.\\n2.1.2 Compressive Memory\\nIn Infini-attention, instead of computing new memory entries for compressive memory, we\\nreuse the query, key and value states ( Q,Kand V) from the dot-product attention compu-\\ntation. The state sharing and reusing between the dot-product attention and compressive\\nmemory not only enables efficient plug-in-play long-context adaptation but also speeds up\\ntraining and inference. Similar to the prior work (Munkhdalai et al., 2019), our goal is to\\nstore bindings of key and value states in the compressive memory and retrieve by using the\\nquery vectors.\\n3', metadata={'source': '/content/Preprint.pdf', 'page': 2}),\n",
              " Document(page_content='Preprint. Under review.\\nWhile there are different forms of compressive memory proposed in the literature (Hop-\\nfield, 1982; Kanerva, 1988; Schlag et al., 2019; Munkhdalai et al., 2019), for simplicity and\\ncomputational efficiency, in this work we parameterize the memory with an associative\\nmatrix (Schlag et al., 2020). This approach further allows us to cast the memory update\\nand retrieval process as linear attention mechanism (Shen et al., 2018) and to leverage\\nstable training techniques from the related methods. Specially, we adopt the update rule\\nand retrieval mechanism by Katharopoulos et al. (2020) mainly due to its simplicity and\\ncompetitive performance.\\nMemory retrieval. In Infini-attention, we retrieve new content Amem∈I RN×dvaluefrom the\\nmemory Ms−1∈I Rdkey×dvalueby using the query Q∈I RN×dkeyas:\\nAmem=σ(Q)Ms−1\\nσ(Q)zs−1. (3)\\nHere, σand zs−1∈I Rdkeyare a nonlinear activation function and a normalization term,\\nrespectively. As the choice of the non-linearity and the norm method is crucial for training\\nstability, following Katharopoulos et al. (2020) we record a sum over all keys as the normal-\\nization term zs−1and use element-wise ELU + 1 as the activation function (Clevert et al.,\\n2015).\\nMemory update. Once the retrieval is done, we update the memory and the normalization\\nterm with the new KV entries and obtain the next states as\\nMs←Ms−1+σ(K)TVand zs←zs−1+N\\n∑\\nt=1σ(Kt). (4)\\nThe new memory states Msand zsare then passed to the next segment S+1, building in\\na recurrence in each attention layer. The right side term σ(K)TVin Eq. (4)is known as an\\nassociative binding operator (Smolensky, 1990; Hebb, 2005; Schlag et al., 2020).\\nInspired by the success of delta rule (Munkhdalai et al., 2019; Schlag et al., 2020; 2021),\\nwe have also incorporated it into our Infini-attention. The delta rule attempts a slightly\\nimproved memory update by first retrieving existing value entries and subtracting them\\nfrom the new values before applying the associative bindings as new update.\\nMs←Ms−1+σ(K)T(V−σ(K)Ms−1\\nσ(K)zs−1). (5)\\nThis update rule ( Linear +Delta ) leaves the associative matrix unmodified if the KV binding\\nalready exists in the memory while still tracking the same normalization term as the former\\none ( Linear ) for numerical stability.\\nLong-term context injection. We aggregate the local attention state Adotand memory\\nretrieved content Amemvia a learned gating scalar β:\\nA=sigmoid (β)⊙Amem+ (1−sigmoid (β))⊙Adot. (6)\\nThis adds only a single scalar value as training parameter per head while allowing a\\nlearnable trade-off between the long-term and local information flows in the model (Wu\\net al., 2022).\\nSimilar to the standard MHA, for the multi-head Infini-attention we compute Hnumber of\\ncontext states in parallel, and concatenate and project them for the final attention output\\nO∈I RN×dmodel:\\nO= [A1; . . .AH]WO (7)\\nwhere WO∈I RH×dvalue×dmodelis trainable weights.\\n2.2 Memory and Effective Context Window\\nOur Infini-Transformer enables an unbounded context window with a bounded memory\\nfootprint. To illustrate this, Table 1 lists the previous segment-level memory models with\\n4', metadata={'source': '/content/Preprint.pdf', 'page': 3}),\n",
              " Document(page_content='Preprint. Under review.\\nModel Memory (cache) footprint Context length Memory update Memory retrieval\\nTransformer-XL (dkey+dvalue)×H×N×l N ×l Discarded Dot-product attention\\nCompressive Transformer dmodel×(c+N)×l (c×r+N)×l Discarded Dot-product attention\\nMemorizing Transformers (dkey+dvalue)×H×N×S N ×S None kNN + dot-product attention\\nRMT dmodel×p×l×2 N×S Discarded Soft-prompt input\\nAutoCompressors dmodel×p×(m+1)×l N ×S Discarded Soft-prompt input\\nInfini-Transformers dkey×(dvalue+1)×H×l N ×S Incremental Linear attention\\nTable 1: Transformer models with segment-level memory are compared. For each model, the\\nmemory size and effective context length are defined in terms of their model parameters ( N:\\ninput segment length, S: the number of segments, l: the number of layers, H: the number\\nof attention heads, c: Compressive Transformer memory size, r: compression ratio, p: the\\nnumber of soft-prompt summary vectors and m: summary vector accumulation steps).\\ntheir context-memory footprint and effective context length defined in terms of model\\nparameters and input segment length. Infini-Transformer has a constant memory complexity\\nofdkey×dvalue+dkeyfor storing compressed context in Msand zsfor each head in single\\nlayer while for the other models, the complexity grows along with the sequence dimension\\n- the memory complexity depends either on the cache size for Transformer-XL (Dai et al.,\\n2019), Compressive Transformer (Rae et al., 2019) and Memorizing Transformers (Wu et al.,\\n2022) or on the soft-prompt size for RTM (Bulatov et al., 2022) and AutoCompressors (Ge\\net al., 2023).\\nEarly \\nlayers \\nAttention heads \\nFigure 3: There are two types of heads\\nemerged in Infini-attention after training: spe-\\ncialized heads with gating score near 0 or\\n1 and mixer heads with score close to 0.5.\\nThe specialized heads either process contex-\\ntual information via the local attention mech-\\nanism or retrieve from the compressive mem-\\nory whereas the mixer heads aggregate both\\ncurrent contextual information and long-term\\nmemory content together into single output.Transformer-XL computes attention over KV\\nstates cached from the last segment in addition\\nto the current states. Since this is done for each\\nlayer, Transformer-XL extends the context win-\\ndow from NtoN×ltokens with an additional\\nmemory footprint of (dkey+dvalue)×H×N×l.\\nCompressive Transformer adds a second cache\\nto Transformer-XL and stores compressed rep-\\nresentations of past segment activations. So it\\nextends the Transformer-XL’s context window\\nbyc×r×lbut still has a large context-memory\\ncomplexity. Taking the idea further, Memoriz-\\ning Transformers opt to store the entire KV states\\nas context for input sequences. Since the stor-\\nage becomes prohibitively expensive in this case,\\nthey restrict the contextual computation to a sin-\\ngle layer only. By utilizing a fast kNN retriever,\\nMemorizing Transformers then build a context\\nwindow covering the entire sequence history of\\nlength N×Sat an increased cost of storage. Our\\nexperiments show that Infini-Transformer LM\\ncan achieve more than 100x compression rate on\\ntop of Memorizing Transformers while further\\nimproving the perplexity score.\\nRMT and AutoCompressors allow for a poten-\\ntially infinite context length since they compress\\nthe input into summary vectors and then pass\\nthem as extra soft-prompt inputs for the subsequent segments. However, in practice the\\nsuccess of those techniques highly depends on the size of soft-prompt vectors. Namely, it\\nis necessary to increase the number of soft-prompt (summary) vectors to achieve a better\\nperformance with AutoCompressors (Chevalier et al., 2023) and with that, the memory and\\ncompute complexity grow quickly resulting in diminished efficiency. It was also observed in\\nAutoCompressors (Chevalier et al., 2023) that an efficient compression objective is needed\\nfor training such prompt compression techniques (Ge et al., 2023).\\n5', metadata={'source': '/content/Preprint.pdf', 'page': 4}),\n",
              " Document(page_content='Preprint. Under review.\\nModel Memory size (comp.) XL cache Segment length PG19 Arxiv-math\\nTransformer-XL 50M (3.7x) 2048 2048 11.88 2.42\\nMemorizing Transformers 183M (1x) 2048 2048 11.37 2.26\\nRMT 2.5M (73x) None 2048 13.27 2.55\\nInfini-Transformer (Linear) 1.6M (114x) None 2048 9.65 2.24\\nInfini-Transformer (Linear + Delta) 1.6M (114x) None 2048 9.67 2.23\\nTable 2: Long-context language modeling results are compared in terms of average token-\\nlevel perplexity. Comp. denotes compression ratio. Infini-Transformer outperforms memo-\\nrizing transformers with memory length of 65K and achieves 114x compression ratio.\\n3 Experiments\\nWe evaluated our Infini-Transformer models on benchmarks involving extremely long input\\nsequences: long-context language modeling, 1M length passkey context block retrieval\\nand 500K length book summarization tasks. For the language modeling benchmark, we\\ntrain our models from scratch while for the passkey and book summarization tasks, we\\ncontinually pre-train existing LLMs in order to highlight a plug-and-play long-context\\nadaptation capability of our approach.\\n3.1 Long-context Language Modeling\\nWe trained and evaluated small Infini-Transformer models on PG19 (Rae et al., 2019) and\\nArxiv-math (Wu et al., 2022) benchmarks. Our setup closely resembles that of Memorizing\\nTransformers (Wu et al., 2022). Namely, all our models have 12 layers and 8 attention heads\\nof dimension 128 each and FFNs with hidden layer 4096.\\nWe set the Infini-attention segment length Nto 2048 for all attention layers and the input\\nsequence length to 32768 for training. This allows the Infini-attention to unroll over 16 steps\\nw.r.t its compressive memory states. For the RMT baseline, we performed several runs with\\nsummary prompt lengths 50, 100 and 150 and sequence lengths 4096, 8196 and 32768. RMT\\nwith 100 summary vectors gave the best result when trained on 8196 length sequences.\\nThe main results from the language modeling experiments are summarized in Table 2. Our\\nInfini-Transformer outperforms both Transformer-XL (Dai et al., 2019) and Memorizing\\nTransformers (Wu et al., 2022) baselines while maintaining 114x less memory parameters\\nthan the Memorizing Transformer model with a vector retrieval-based KV memory with\\nlength of 65K at its 9thlayer.\\n100K length training. We further increased the training sequence length to 100K from\\n32K and trained the models on Arxiv-math dataset. 100K training further decreased the\\nperplexity score to 2.21 and 2.20 forLinear and Linear +Delta models.\\nGating score visualization. Figure 3 visualizes the gating score, sigmoid (β)for the compres-\\nsive memory for all attention heads in each layer. There are two types of heads emerged in\\nInfini-attention after training: specialized heads with a gating score near 0 or 1 and mixer\\nheads with a score close to 0.5. The specialized heads either process contextual information\\nvia the local attention computation or retrieve from the compressive memory whereas the\\nZero-shot\\n32K 128K 256K 512K 1M\\nInfini-Transformer (Linear) 14/13/98 11/14/100 6/3/100 6/7/99 8/6/98\\nInfini-Transformer (Linear + Delta) 13/11/99 6/9/99 7/5/99 6/8/97 7/6/97\\nFT (400 steps)\\nInfini-Transformer (Linear) 100/100/100 100/100/100 100/100/100 97/99/100 96/94/100\\nInfini-Transformer (Linear + Delta) 100/100/100 100/100/99 100/100/99 100/100/100 100/100/100\\nTable 3: Infini-Transformers solved the passkey task with up to 1M context length when\\nfine-tuned on 5K length inputs. We report token-level retrieval accuracy for passkeys hidden\\nin a different part ( start/middle/end ) of long inputs with lengths 32K to 1M.\\n6', metadata={'source': '/content/Preprint.pdf', 'page': 5}),\n",
              " Document(page_content='Preprint. Under review.\\nModel Rouge-1 Rouge-2 Rouge-L Overall\\nBART 36.4 7.6 15.3 16.2\\nBART + Unlimiformer 36.8 8.3 15.7 16.9\\nPRIMERA 38.6 7.2 15.6 16.3\\nPRIMERA + Unlimiformer 37.9 8.2 16.3 17.2\\nInfini-Transformers (Linear) 37.9 8.7 17.6 18.0\\nInfini-Transformers (Linear + Delta) 40.0 8.8 17.9 18.5\\nTable 4: 500K length book summarization (BookSum) results. The BART, PRIMERA and\\nUnlimiformer results are from Bertsch et al. (2024).\\nmixer heads aggregate both current contextual information and long-term memory content\\ntogether into a single output. Interestingly, each layer has at least a single short-range\\nhead, allowing a forward-propagation of input signal up until the output layer. We also\\nobserved an interleaving of long and short-term content retrievals throughout the forward\\ncomputation.\\n3.2 LLM Continual Pre-training\\nWe performed a lightweight continual pre-training for long-context adaptation of existing\\nLLMs. The pre-training data includes the PG19 and Arxiv-math corpus as well as C4\\ntext (Raffel et al., 2020) with length more than 4K tokens. The segment length Nwas set to\\n2K throughout our experiments.\\n1M passkey retrieval benchmark. We replaced the vanilla MHA in a 1B LLM with Infini-\\nattention and continued to pre-train on inputs with length of 4K. The model was trained for\\n30K steps with batch size of 64 before fine-tuning on the passkey retrieval task (Mohtashami\\n& Jaggi, 2024).\\nThe passkey task hides a random number into a long text and asks it back at the model\\noutput. The length of the distraction text is varied by repeating a text chunk multiple times.\\nThe previous work (Chen et al., 2023a) showed that a 8B LLaMA model can solve the task up\\nto 32K length when fine-tuned with the same 32K length inputs with Position Interpolation.\\nWe take this challenge further and fine-tune on only 5K length inputs to test on 1M length\\nregime.\\nInput lengthRouge overall score\\n17181920\\n16K 32K 64K 128K 256K 500K\\nFigure 4: Infini-Transformers obtain better\\nRouge overall scores with more book text pro-\\nvided as input.Table 3 reports the token-level accuracy for\\ntest subsets with input lengths ranging from\\n32K to 1M. For each test subset, we con-\\ntrolled the position of the passkey so that it\\nis either located around the beginning, mid-\\ndle or the end of the input sequence. We\\nreported both zero-shot accuracy and fine-\\ntuning accuracy. Infini-Transformers solved\\nthe task with up to 1M context length af-\\nter fine-tuning on 5K length inputs for 400\\nsteps.\\n500K length book summarization (Book-\\nSum). We further scaled our approach by\\ncontinuously pre-training a 8B LLM model\\nwith 8K input length for 30K steps. We then\\nfine-tuned on a book summarization task,\\nBookSum (Kry ´sci´nski et al., 2021) where the\\ngoal is to generate a summary of an entire\\nbook text.\\nWe set the input length to 32K for fine-tuning and increase to 500K for evaluating. We use a\\ngeneration temperature of 0.5 and top p=0.95 and set the number of decoding steps to 1024\\nto generate a summary of each book.\\n7', metadata={'source': '/content/Preprint.pdf', 'page': 6}),\n",
              " Document(page_content='Preprint. Under review.\\nTable 4 compares our model against the encoder-decoder models that were built particularly\\nfor the summarization task (Lewis et al., 2019; Xiao et al., 2021) and their retrieval-based\\nlong-context extension (Bertsch et al., 2024). Our model outperforms the previous best\\nresults and achieves a new SOTA on BookSum by processing the entire text from book. We\\nhave also plotted the overall Rouge score on validation split of BookSum data in Figure 4.\\nThere is a clear trend showing that with more text provided as input from books, Our\\nInfini-Transformers improves its summarization performance metric.\\n4 Related Work\\nCompressive memory. Inspired by the plasticity in biological neurons (Munkhdalai & Yu,\\n2017a; Miconi et al., 2018), compressive memory approaches cast parameterized functions\\nas memory to store and retrieve information (Hinton & Plaut, 1987; Schmidhuber, 1992; Ba\\net al., 2016; Munkhdalai et al., 2019). Unlike the Transformer KV memory array (Vaswani\\net al., 2017; Wu et al., 2022), which grows with input sequence length, compressive memory\\nsystems maintain a constant number of memory parameters for computational efficiency.\\nThe parameters are modified with an update rule to store information, which is then\\nretrieved via a memory reading mechanism (Graves et al., 2014; Sukhbaatar et al., 2015;\\nMunkhdalai & Yu, 2017b).\\nCompressed input representations can be viewed as a summary of past sequence seg-\\nments (Rae et al., 2019; Chevalier et al., 2023). Along this direction, more recent works\\nhave been utilizing a Transformer LLM itself to compress input sequence for efficient long-\\ncontext modeling (Bulatov et al., 2022; Chevalier et al., 2023; Ge et al., 2023; Mu et al.,\\n2024). However, the previous segment-level compression methods, including Compressive\\nTransformers (Rae et al., 2019) still discard the memory entries of old segments in order to\\nfree up space for the new ones, limiting their context window to the most recent segments.\\nThis is in contrast to our Infini-attention that computes incremental memory updates to a\\nfixed amount of memory parameters in a recurrent fashion.\\nLong-context continual pre-training. There is a line of work that extends the do-product\\nattention layers and continues to train LLMs for long-context (Xiong et al., 2023; Fu et al.,\\n2024). The attention extensions include incorporating sparsity into the attention layer (Chen\\net al., 2023b; Ratner et al., 2022; Mohtashami & Jaggi, 2024) as well as manipulating the\\nposition encodings (Chen et al., 2023a; Peng et al., 2023) Although the position encoding-\\nbased methods such as position interpolation techniques (Chen et al., 2023a) can be data\\nefficient as they only adjust the positional bias in the attention layer, they are still costly for\\ninference.\\nThe attention mechanism is also prone to the issues of attention sink (Xiao et al., 2023) and\\nlost-in-the-middle (Liu et al., 2024). Consequently, they struggle in a regime where context\\nlength is longer than what was observed during training (Press et al., 2021; Kazemnejad\\net al., 2024). The proposed Infini-attention addresses those issues by enabling a segment-\\nlevel streaming computation over long sequences with a fixed local attention window. Our\\nInfini-Transformers successfully extrapolate to 1M input length regimes when trained on\\n32K and even 5K length sequences.\\nEfficient attention. The efficient attention techniques attempt to improve the efficiency of\\nthe dot-product attention with an approximation or a system-level optimization. Multiple\\ndirections have been explored for different forms of efficient attention approximation,\\nincluding sparsity-based (Child et al., 2019; Beltagy et al., 2020; Sukhbaatar et al., 2021;\\nDing et al., 2023) and linear attention approximation (Shen et al., 2018; Katharopoulos et al.,\\n2020; Schlag et al., 2021). Among those, the linear attention variants are closely related', metadata={'source': '/content/Preprint.pdf', 'page': 7}),\n",
              " Document(page_content='Ding et al., 2023) and linear attention approximation (Shen et al., 2018; Katharopoulos et al.,\\n2020; Schlag et al., 2021). Among those, the linear attention variants are closely related\\nto the associative memory matrix (Schlag et al., 2020; 2021) and the metalearned neural\\nmemory (Munkhdalai et al., 2019), where KV bindings (Smolensky, 1990) are stored in\\nFast-Weights (Hinton & Plaut, 1987; Schmidhuber, 1992; Ba et al., 2016) that are modified\\nin with respect to new contextual information. More recently, system-level optimization\\ntechniques have been proposed by leveraging specific hardware architecture to make the\\nexact attention computation more efficient (Dao et al., 2022; Liu et al., 2023).\\n8', metadata={'source': '/content/Preprint.pdf', 'page': 7}),\n",
              " Document(page_content='Preprint. Under review.\\n5 Conclusion\\nAn effective memory system is crucial not just for comprehending long contexts with LLMs,\\nbut also for reasoning, planning, continual adaptation for fresh knowledge, and even for\\nlearning how to learn. This work introduces a close integration of compressive memory mod-\\nule into the vanilla dot-product attention layer. This subtle but critical modification to the\\nattention layer enables LLMs to process infinitely long contexts with bounded memory and\\ncomputation resources. We show that our approach can naturally scale to a million length\\nregime of input sequences, while outperforming the baselines on long-context language\\nmodeling benchmark and book summarization tasks. We also demonstrate a promising\\nlength generalization capability of our approach. 1B model that was fine-tuned on up to 5K\\nsequence length passkey instances solved the 1M length problem.\\nReferences\\nRohan Anil, Andrew M Dai, Orhan Firat, Melvin Johnson, Dmitry Lepikhin, Alexandre\\nPassos, Siamak Shakeri, Emanuel Taropa, Paige Bailey, Zhifeng Chen, et al. Palm 2\\ntechnical report. arXiv preprint arXiv:2305.10403 , 2023.\\nJimmy Ba, Geoffrey E Hinton, Volodymyr Mnih, Joel Z Leibo, and Catalin Ionescu. Using\\nfast weights to attend to the recent past. Advances in neural information processing systems ,\\n29, 2016.\\nDzmitry Bahdanau, Kyunghyun Cho, and Yoshua Bengio. Neural machine translation by\\njointly learning to align and translate. arXiv preprint arXiv:1409.0473 , 2014.\\nIz Beltagy, Matthew E Peters, and Arman Cohan. Longformer: The long-document trans-\\nformer. arXiv preprint arXiv:2004.05150 , 2020.\\nAmanda Bertsch, Uri Alon, Graham Neubig, and Matthew Gormley. Unlimiformer: Long-\\nrange transformers with unlimited length input. Advances in Neural Information Processing\\nSystems , 36, 2024.\\nTom Brown, Benjamin Mann, Nick Ryder, Melanie Subbiah, Jared D Kaplan, Prafulla\\nDhariwal, Arvind Neelakantan, Pranav Shyam, Girish Sastry, Amanda Askell, et al.\\nLanguage models are few-shot learners. Advances in neural information processing systems ,\\n33:1877–1901, 2020.\\nAydar Bulatov, Yury Kuratov, and Mikhail Burtsev. Recurrent memory transformer. Advances\\nin Neural Information Processing Systems , 35:11079–11091, 2022.\\nShouyuan Chen, Sherman Wong, Liangjian Chen, and Yuandong Tian. Extending con-\\ntext window of large language models via positional interpolation. arXiv preprint\\narXiv:2306.15595 , 2023a.\\nYukang Chen, Shengju Qian, Haotian Tang, Xin Lai, Zhijian Liu, Song Han, and Jiaya Jia.\\nLonglora: Efficient fine-tuning of long-context large language models. arXiv preprint\\narXiv:2309.12307 , 2023b.\\nJianpeng Cheng, Li Dong, and Mirella Lapata. Long short-term memory-networks for\\nmachine reading. arXiv preprint arXiv:1601.06733 , 2016.\\nAlexis Chevalier, Alexander Wettig, Anirudh Ajith, and Danqi Chen. Adapting language\\nmodels to compress contexts. arXiv preprint arXiv:2305.14788 , 2023.\\nRewon Child, Scott Gray, Alec Radford, and Ilya Sutskever. Generating long sequences with\\nsparse transformers. arXiv preprint arXiv:1904.10509 , 2019.\\nDjork-Arn ´e Clevert, Thomas Unterthiner, and Sepp Hochreiter. Fast and accurate deep\\nnetwork learning by exponential linear units (elus). arXiv preprint arXiv:1511.07289 , 2015.\\n9', metadata={'source': '/content/Preprint.pdf', 'page': 8}),\n",
              " Document(page_content='Preprint. Under review.\\nZihang Dai, Zhilin Yang, Yiming Yang, Jaime Carbonell, Quoc V Le, and Ruslan Salakhut-\\ndinov. Transformer-xl: Attentive language models beyond a fixed-length context. arXiv\\npreprint arXiv:1901.02860 , 2019.\\nTri Dao, Dan Fu, Stefano Ermon, Atri Rudra, and Christopher R ´e. Flashattention: Fast\\nand memory-efficient exact attention with io-awareness. Advances in Neural Information\\nProcessing Systems , 35:16344–16359, 2022.\\nJiayu Ding, Shuming Ma, Li Dong, Xingxing Zhang, Shaohan Huang, Wenhui Wang,\\nNanning Zheng, and Furu Wei. Longnet: Scaling transformers to 1,000,000,000 tokens.\\narXiv preprint arXiv:2307.02486 , 2023.\\nYao Fu, Rameswar Panda, Xinyao Niu, Xiang Yue, Hannaneh Hajishirzi, Yoon Kim, and\\nHao Peng. Data engineering for scaling language models to 128k context. arXiv preprint\\narXiv:2402.10171 , 2024.\\nTao Ge, Jing Hu, Xun Wang, Si-Qing Chen, and Furu Wei. In-context autoencoder for context\\ncompression in a large language model. arXiv preprint arXiv:2307.06945 , 2023.\\nAlex Graves, Greg Wayne, and Ivo Danihelka. Neural turing machines. arXiv preprint\\narXiv:1410.5401 , 2014.\\nDirk Groeneveld, Iz Beltagy, Pete Walsh, Akshita Bhagia, Rodney Kinney, Oyvind Tafjord,\\nAnanya Harsh Jha, Hamish Ivison, Ian Magnusson, Yizhong Wang, et al. Olmo: Acceler-\\nating the science of language models. arXiv preprint arXiv:2402.00838 , 2024.\\nDonald Olding Hebb. The organization of behavior: A neuropsychological theory . Psychology\\npress, 2005.\\nGeoffrey E Hinton and David C Plaut. Using fast weights to deblur old memories. In\\nProceedings of the ninth annual conference of the Cognitive Science Society , pp. 177–186, 1987.\\nJohn J Hopfield. Neural networks and physical systems with emergent collective computa-\\ntional abilities. Proceedings of the national academy of sciences , 79(8):2554–2558, 1982.\\nPentti Kanerva. Sparse distributed memory . MIT press, 1988.\\nAngelos Katharopoulos, Apoorv Vyas, Nikolaos Pappas, and Fran c ¸ois Fleuret. Transformers\\nare rnns: Fast autoregressive transformers with linear attention. In International conference\\non machine learning , pp. 5156–5165. PMLR, 2020.\\nAmirhossein Kazemnejad, Inkit Padhi, Karthikeyan Natesan Ramamurthy, Payel Das, and\\nSiva Reddy. The impact of positional encoding on length generalization in transformers.\\nAdvances in Neural Information Processing Systems , 36, 2024.\\nWojciech Kry ´sci´nski, Nazneen Rajani, Divyansh Agarwal, Caiming Xiong, and Dragomir\\nRadev. Booksum: A collection of datasets for long-form narrative summarization. arXiv\\npreprint arXiv:2105.08209 , 2021.\\nMike Lewis, Yinhan Liu, Naman Goyal, Marjan Ghazvininejad, Abdelrahman Mohamed,\\nOmer Levy, Ves Stoyanov, and Luke Zettlemoyer. Bart: Denoising sequence-to-sequence\\npre-training for natural language generation, translation, and comprehension. arXiv\\npreprint arXiv:1910.13461 , 2019.\\nHao Liu, Matei Zaharia, and Pieter Abbeel. Ring attention with blockwise transformers for\\nnear-infinite context. arXiv preprint arXiv:2310.01889 , 2023.\\nNelson F Liu, Kevin Lin, John Hewitt, Ashwin Paranjape, Michele Bevilacqua, Fabio Petroni,\\nand Percy Liang. Lost in the middle: How language models use long contexts. Transactions\\nof the Association for Computational Linguistics , 12:157–173, 2024.\\nThomas Miconi, Kenneth Stanley, and Jeff Clune. Differentiable plasticity: training plastic\\nneural networks with backpropagation. In International Conference on Machine Learning ,\\npp. 3559–3568. PMLR, 2018.\\n10', metadata={'source': '/content/Preprint.pdf', 'page': 9}),\n",
              " Document(page_content='Preprint. Under review.\\nAmirkeivan Mohtashami and Martin Jaggi. Random-access infinite context length for\\ntransformers. Advances in Neural Information Processing Systems , 36, 2024.\\nJesse Mu, Xiang Li, and Noah Goodman. Learning to compress prompts with gist tokens.\\nAdvances in Neural Information Processing Systems , 36, 2024.\\nTsendsuren Munkhdalai and Hong Yu. Meta networks. In International conference on machine\\nlearning , pp. 2554–2563. PMLR, 2017a.\\nTsendsuren Munkhdalai and Hong Yu. Neural semantic encoders. In Proceedings of the\\nconference. Association for Computational Linguistics. Meeting , volume 1, pp. 397. NIH Public\\nAccess, 2017b.\\nTsendsuren Munkhdalai, John P Lalor, and Hong Yu. Citation analysis with neural attention\\nmodels. In Proceedings of the Seventh International Workshop on Health Text Mining and\\nInformation Analysis , pp. 69–77, 2016.\\nTsendsuren Munkhdalai, Alessandro Sordoni, Tong Wang, and Adam Trischler. Metalearned\\nneural memory. Advances in Neural Information Processing Systems , 32, 2019.\\nBowen Peng, Jeffrey Quesnelle, Honglu Fan, and Enrico Shippole. Yarn: Efficient context\\nwindow extension of large language models. arXiv preprint arXiv:2309.00071 , 2023.\\nReiner Pope, Sholto Douglas, Aakanksha Chowdhery, Jacob Devlin, James Bradbury,\\nJonathan Heek, Kefan Xiao, Shivani Agrawal, and Jeff Dean. Efficiently scaling trans-\\nformer inference. Proceedings of Machine Learning and Systems , 5, 2023.\\nOfir Press, Noah A Smith, and Mike Lewis. Train short, test long: Attention with linear\\nbiases enables input length extrapolation. arXiv preprint arXiv:2108.12409 , 2021.\\nJack W Rae, Anna Potapenko, Siddhant M Jayakumar, and Timothy P Lillicrap. Compressive\\ntransformers for long-range sequence modelling. arXiv preprint arXiv:1911.05507 , 2019.\\nColin Raffel, Noam Shazeer, Adam Roberts, Katherine Lee, Sharan Narang, Michael Matena,\\nYanqi Zhou, Wei Li, and Peter J Liu. Exploring the limits of transfer learning with a\\nunified text-to-text transformer. The Journal of Machine Learning Research , 21(1):5485–5551,\\n2020.\\nNir Ratner, Yoav Levine, Yonatan Belinkov, Ori Ram, Omri Abend, Ehud Karpas, Amnon\\nShashua, Kevin Leyton-Brown, and Yoav Shoham. Parallel context windows improve\\nin-context learning of large language models. arXiv preprint arXiv:2212.10947 , 2022.\\nImanol Schlag, Paul Smolensky, Roland Fernandez, Nebojsa Jojic, J ¨urgen Schmidhuber,\\nand Jianfeng Gao. Enhancing the transformer with explicit relational encoding for math\\nproblem solving. arXiv preprint arXiv:1910.06611 , 2019.\\nImanol Schlag, Tsendsuren Munkhdalai, and J ¨urgen Schmidhuber. Learning associative\\ninference using fast weight memory. arXiv preprint arXiv:2011.07831 , 2020.\\nImanol Schlag, Kazuki Irie, and J ¨urgen Schmidhuber. Linear transformers are secretly\\nfast weight programmers. In International Conference on Machine Learning , pp. 9355–9366.\\nPMLR, 2021.\\nJ¨urgen Schmidhuber. Learning to control fast-weight memories: An alternative to dynamic\\nrecurrent networks. Neural Computation , 4(1):131–139, 1992.\\nNoam Shazeer and Mitchell Stern. Adafactor: Adaptive learning rates with sublinear\\nmemory cost. In International Conference on Machine Learning , pp. 4596–4604. PMLR, 2018.\\nZhuoran Shen, Mingyuan Zhang, Haiyu Zhao, Shuai Yi, and Hongsheng Li. Efficient\\nattention: Attention with linear complexities. arXiv preprint arXiv:1812.01243 , 2018.\\nPaul Smolensky. Tensor product variable binding and the representation of symbolic\\nstructures in connectionist systems. Artificial intelligence , 46(1-2):159–216, 1990.\\n11', metadata={'source': '/content/Preprint.pdf', 'page': 10}),\n",
              " Document(page_content='Preprint. Under review.\\nSainbayar Sukhbaatar, Jason Weston, Rob Fergus, et al. End-to-end memory networks.\\nAdvances in neural information processing systems , 28, 2015.\\nSainbayar Sukhbaatar, Da Ju, Spencer Poff, Stephen Roller, Arthur Szlam, Jason Weston,\\nand Angela Fan. Not all memories are created equal: Learning to forget by expiring. In\\nInternational Conference on Machine Learning , pp. 9902–9912. PMLR, 2021.\\nHugo Touvron, Louis Martin, Kevin Stone, Peter Albert, Amjad Almahairi, Yasmine Babaei,\\nNikolay Bashlykov, Soumya Batra, Prajjwal Bhargava, Shruti Bhosale, et al. Llama 2:\\nOpen foundation and fine-tuned chat models. arXiv preprint arXiv:2307.09288 , 2023.\\nAshish Vaswani, Noam Shazeer, Niki Parmar, Jakob Uszkoreit, Llion Jones, Aidan N Gomez,\\nŁukasz Kaiser, and Illia Polosukhin. Attention is all you need. Advances in neural informa-\\ntion processing systems , 30, 2017.\\nYuhuai Wu, Markus N Rabe, DeLesley Hutchins, and Christian Szegedy. Memorizing\\ntransformers. arXiv preprint arXiv:2203.08913 , 2022.\\nGuangxuan Xiao, Yuandong Tian, Beidi Chen, Song Han, and Mike Lewis. Efficient stream-\\ning language models with attention sinks. arXiv preprint arXiv:2309.17453 , 2023.\\nWen Xiao, Iz Beltagy, Giuseppe Carenini, and Arman Cohan. Primera: Pyramid-\\nbased masked sentence pre-training for multi-document summarization. arXiv preprint\\narXiv:2110.08499 , 2021.\\nWenhan Xiong, Jingyu Liu, Igor Molybog, Hejia Zhang, Prajjwal Bhargava, Rui Hou, Louis\\nMartin, Rashi Rungta, Karthik Abinav Sankararaman, Barlas Oguz, et al. Effective\\nlong-context scaling of foundation models. arXiv preprint arXiv:2309.16039 , 2023.\\nA Additional Training Details\\nFor the long-context language modeling task, we set the learning rate to 0.01 by perform-\\ning small search over values of 0.003, 0.005, 0.01 and 0.03. We used the Adafactor opti-\\nmizer (Shazeer & Stern, 2018) with linear warmup with 1000 steps, followed by cosine\\ndecay. We applied gradient checkpointing after each segment to save to save memory. The\\nbatch size was set to 64. For the LLM experiments, we set the learning rate to 0.0001 during\\ncontinual pre-training and task fine-tuning.\\nB Passkey Retrieval Task\\nBelow we showed the input format of the passkey task.\\nThere is an important info hidden inside a lot of irrelevant text. Find it and memorize them. I\\nwill quiz you about the important information there. The grass is green. The sky is blue. The sun\\nis yellow. Here we go. There and back again. (repeat x times) The pass key is 9054 . Remember\\nit.9054 is the pass key. The grass is green. The sky is blue. The sun is yellow. Here we go.\\nThere and ack again. (repeat y times) What is the pass key? The pass key is\\n12', metadata={'source': '/content/Preprint.pdf', 'page': 11})]"
            ]
          },
          "metadata": {},
          "execution_count": 2
        }
      ],
      "source": [
        "from langchain_community.document_loaders import PyPDFLoader\n",
        "\n",
        "loader = PyPDFLoader(r\"/content/Preprint.pdf\")\n",
        "pages = loader.load_and_split()\n",
        "pages"
      ]
    },
    {
      "cell_type": "code",
      "execution_count": 3,
      "metadata": {
        "id": "GNoZ-D4bNwbc"
      },
      "outputs": [],
      "source": [
        "page = \"\".join([p.page_content for p in pages])\n"
      ]
    },
    {
      "cell_type": "code",
      "execution_count": 7,
      "metadata": {
        "id": "en3qkzjlNwbc"
      },
      "outputs": [],
      "source": [
        "import google.generativeai as genai\n",
        "f = open(\"/content/Rag_geminiapi_key.txt\")\n",
        "key = f.read()\n",
        "\n",
        "genai.configure(api_key=key)"
      ]
    },
    {
      "cell_type": "code",
      "execution_count": 8,
      "metadata": {
        "colab": {
          "base_uri": "https://localhost:8080/",
          "height": 138
        },
        "id": "s6ce-RuWNwbd",
        "outputId": "164a5f96-21c3-4877-aff0-ec2ad98fefae"
      },
      "outputs": [
        {
          "output_type": "stream",
          "name": "stdout",
          "text": [
            "models/gemini-1.0-pro\n",
            "models/gemini-1.0-pro-001\n",
            "models/gemini-1.0-pro-latest\n",
            "models/gemini-1.0-pro-vision-latest\n",
            "models/gemini-1.5-pro-latest\n",
            "models/gemini-pro\n",
            "models/gemini-pro-vision\n"
          ]
        }
      ],
      "source": [
        "for m in genai.list_models():\n",
        "  if 'generateContent' in m.supported_generation_methods:\n",
        "    print(m.name)"
      ]
    },
    {
      "cell_type": "code",
      "execution_count": null,
      "metadata": {
        "id": "iclVHO8INwbd"
      },
      "outputs": [],
      "source": [
        "from langchain_text_splitters import NLTKTextSplitter\n",
        "\n",
        "text_splitter = NLTKTextSplitter(chunk_size=500, chunk_overlap=100)\n",
        "\n",
        "chunks = text_splitter.split_documents(pages)\n",
        "\n",
        "print(len(chunks))\n",
        "\n",
        "print(type(chunks[0]))"
      ]
    },
    {
      "cell_type": "code",
      "execution_count": 14,
      "metadata": {
        "id": "gN3_yFaPNwbd"
      },
      "outputs": [],
      "source": [
        "from langchain_google_genai import GoogleGenerativeAIEmbeddings"
      ]
    },
    {
      "cell_type": "code",
      "execution_count": 15,
      "metadata": {
        "id": "X2M4rH1tNwbe"
      },
      "outputs": [],
      "source": [
        "embedding_model= GoogleGenerativeAIEmbeddings(google_api_key=key, model=\"models/embedding-001\")"
      ]
    },
    {
      "cell_type": "code",
      "execution_count": null,
      "metadata": {
        "id": "jYVyTLTuNwbe"
      },
      "outputs": [],
      "source": [
        "from langchain_community.vectorstores import Chroma\n",
        "db = Chroma.from_documents(chunks, embedding_model, persist_directory=\"./chroma_db_\")\n",
        "db.persist()"
      ]
    },
    {
      "cell_type": "code",
      "execution_count": null,
      "metadata": {
        "id": "iI8R-9dvNwbe"
      },
      "outputs": [],
      "source": [
        "db_connection = Chroma(persist_directory=\"./chroma_db_\", embedding_function=embedding_model)"
      ]
    },
    {
      "cell_type": "code",
      "execution_count": null,
      "metadata": {
        "id": "wTvlOAz6Nwbf"
      },
      "outputs": [],
      "source": [
        "retriever = db_connection.as_retriever(search_kwargs={\"k\":5})\n",
        "print(type(retriever))"
      ]
    },
    {
      "cell_type": "code",
      "execution_count": 12,
      "metadata": {
        "colab": {
          "base_uri": "https://localhost:8080/"
        },
        "id": "CNNthXO-Nwbf",
        "outputId": "dc137f12-b7d4-4a47-cbec-b6b3a7496e91"
      },
      "outputs": [
        {
          "output_type": "execute_result",
          "data": {
            "text/plain": [
              "ChatSession(\n",
              "    model=genai.GenerativeModel(\n",
              "        model_name='models/gemini-1.5-pro-latest',\n",
              "        generation_config={},\n",
              "        safety_settings={},\n",
              "        tools=None,\n",
              "        system_instruction=None,\n",
              "    ),\n",
              "    history=[]\n",
              ")"
            ]
          },
          "metadata": {},
          "execution_count": 12
        }
      ],
      "source": [
        "model = genai.GenerativeModel('gemini-1.5-pro-latest')\n",
        "\n",
        "chat = model.start_chat(history=[])\n",
        "\n",
        "chat"
      ]
    },
    {
      "cell_type": "code",
      "execution_count": 13,
      "metadata": {
        "colab": {
          "base_uri": "https://localhost:8080/",
          "height": 349
        },
        "id": "N0ztbDrFNwbf",
        "outputId": "c5c18a8a-997e-4b76-de0e-b511df11bc28"
      },
      "outputs": [
        {
          "output_type": "stream",
          "name": "stdout",
          "text": [
            "## Leave No Context Behind: Key Topic \n",
            "\n",
            "The research paper \"Leave No Context Behind\" primarily focuses on **scaling Transformer-based Large Language Models (LLMs) to process infinitely long input sequences while maintaining efficiency**. This is achieved through a novel attention mechanism called **Infini-attention**.\n",
            "\n",
            "Here's a breakdown of the key elements:\n",
            "\n",
            "* **Problem:** Standard Transformer models struggle with long sequences due to quadratic complexity in memory and computation. This limits their ability to handle extensive contexts effectively.\n",
            "* **Proposed Solution: Infini-attention:** This new attention mechanism incorporates a compressive memory into the traditional attention framework. It combines:\n",
            "    * **Masked local attention:** Focuses on the current input segment for detailed context.\n",
            "    * **Long-term linear attention:** Retrieves information from the compressed memory of previous segments, enabling access to the entire context history. \n",
            "* **Benefits:**\n",
            "    * **Bounded memory and computation:** Enables processing of infinitely long inputs without exorbitant resource requirements.\n",
            "    * **Efficient long-context adaptation:**  Allows existing LLMs to be continually pre-trained and fine-tuned for long sequences.\n",
            "    * **Streaming inference:**  Facilitates processing of extremely long inputs in a sequential manner.\n",
            "* **Results:** The paper demonstrates the effectiveness of Infini-attention on various benchmarks, including long-context language modeling, passkey retrieval, and book summarization tasks. It shows significant improvements in perplexity and accuracy while achieving high compression ratios compared to baseline models.\n",
            "\n",
            "Therefore, the core topic of \"Leave No Context Behind\" is the development and application of Infini-attention to enable efficient and scalable long-context processing in LLMs. \n",
            "\n"
          ]
        }
      ],
      "source": [
        "user_input = page+ \" previous text is the content of the research paper Leave No Context Behind .based on that answer the question\" + \"What is the most important topic that covered in the research paper named Leave No Context Behind\"\n",
        "\n",
        "response = chat.send_message(user_input)\n",
        "\n",
        "print(response.text)"
      ]
    },
    {
      "cell_type": "code",
      "source": [],
      "metadata": {
        "id": "6abKceKiPD0z"
      },
      "execution_count": 13,
      "outputs": []
    }
  ],
  "metadata": {
    "kernelspec": {
      "display_name": "Python 3 (ipykernel)",
      "language": "python",
      "name": "python3"
    },
    "language_info": {
      "codemirror_mode": {
        "name": "ipython",
        "version": 3
      },
      "file_extension": ".py",
      "mimetype": "text/x-python",
      "name": "python",
      "nbconvert_exporter": "python",
      "pygments_lexer": "ipython3",
      "version": "3.10.9"
    },
    "colab": {
      "provenance": [],
      "include_colab_link": true
    }
  },
  "nbformat": 4,
  "nbformat_minor": 0
}